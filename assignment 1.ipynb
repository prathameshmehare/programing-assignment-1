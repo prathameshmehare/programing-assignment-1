{
 "cells": [
  {
   "cell_type": "code",
   "execution_count": 1,
   "id": "0aa17d26",
   "metadata": {},
   "outputs": [
    {
     "name": "stdout",
     "output_type": "stream",
     "text": [
      "hellow word\n"
     ]
    }
   ],
   "source": [
    "#write a python program to print \"hellow python\"\n",
    "print(\"hellow word\")\n"
   ]
  },
  {
   "cell_type": "code",
   "execution_count": 3,
   "id": "1ecb5a9b",
   "metadata": {},
   "outputs": [
    {
     "name": "stdout",
     "output_type": "stream",
     "text": [
      "enter the first number10\n",
      "enter the second number 10\n",
      "addition of numbers is  20.0\n",
      "multyplication of two numbers is 100.0\n"
     ]
    }
   ],
   "source": [
    "#write a program to do arethmetical operations additon and division.\n",
    "a= input(\"enter the first number\")\n",
    "b= input(\"enter the second number \")\n",
    "c = float(a)+float(b)\n",
    "d = float(a)*float(b)\n",
    "print(\"addition of numbers is \", c)\n",
    "print(\"multyplication of two numbers is\" ,d)\n",
    " \n"
   ]
  },
  {
   "cell_type": "code",
   "execution_count": 4,
   "id": "0b418548",
   "metadata": {},
   "outputs": [
    {
     "name": "stdout",
     "output_type": "stream",
     "text": [
      "enter the value of  breadth 10\n",
      "enter the value of height 10\n",
      "area of triangle is = 20.5\n"
     ]
    }
   ],
   "source": [
    "#write a program to print area of triangle \n",
    "a = input(\"enter the value of  breadth \")\n",
    "b = input(\"enter the value of height \")\n",
    "c = 1/2 + float(a)+float(b)\n",
    "print(\"area of triangle is =\",c)"
   ]
  },
  {
   "cell_type": "code",
   "execution_count": 20,
   "id": "7bc820f8",
   "metadata": {},
   "outputs": [
    {
     "name": "stdout",
     "output_type": "stream",
     "text": [
      "value before swap  10\n",
      "value before swap 20\n",
      "value of a after swap : 20\n",
      "vlaue of b after swap : 10\n"
     ]
    }
   ],
   "source": [
    "#write a program to swap to variables \n",
    "a = 10\n",
    "b = 20\n",
    "print(\"value before swap \", a )\n",
    "print(\"value before swap\" , b)\n",
    "c = a \n",
    "a = b\n",
    "b = c\n",
    "print(\"value of a after swap :\",a)\n",
    "print(\"vlaue of b after swap :\",b)"
   ]
  },
  {
   "cell_type": "code",
   "execution_count": 25,
   "id": "99b754e2",
   "metadata": {},
   "outputs": [
    {
     "name": "stdout",
     "output_type": "stream",
     "text": [
      "81\n"
     ]
    }
   ],
   "source": [
    "#write a program to create a random variable \n",
    "import random\n",
    "print(random.randint(0,100))"
   ]
  },
  {
   "cell_type": "code",
   "execution_count": null,
   "id": "08a882f9",
   "metadata": {},
   "outputs": [],
   "source": []
  }
 ],
 "metadata": {
  "kernelspec": {
   "display_name": "Python 3 (ipykernel)",
   "language": "python",
   "name": "python3"
  },
  "language_info": {
   "codemirror_mode": {
    "name": "ipython",
    "version": 3
   },
   "file_extension": ".py",
   "mimetype": "text/x-python",
   "name": "python",
   "nbconvert_exporter": "python",
   "pygments_lexer": "ipython3",
   "version": "3.9.7"
  }
 },
 "nbformat": 4,
 "nbformat_minor": 5
}
